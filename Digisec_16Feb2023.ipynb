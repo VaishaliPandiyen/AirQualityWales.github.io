{
 "cells": [
  {
   "cell_type": "code",
   "execution_count": 1,
   "id": "e6adb97a",
   "metadata": {},
   "outputs": [],
   "source": [
    "import requests"
   ]
  },
  {
   "cell_type": "code",
   "execution_count": 2,
   "id": "299b2f5d",
   "metadata": {},
   "outputs": [],
   "source": [
    "# response = requests.get(\"https://example.com\")\n",
    "\n",
    "# response.status_code"
   ]
  },
  {
   "cell_type": "code",
   "execution_count": 3,
   "id": "99a5e70c",
   "metadata": {},
   "outputs": [
    {
     "name": "stdout",
     "output_type": "stream",
     "text": [
      "Requirement already satisfied: fake_useragent in c:\\users\\vaishali\\anaconda3\\lib\\site-packages (1.1.1)\n",
      "Requirement already satisfied: importlib-resources>=5.0 in c:\\users\\vaishali\\anaconda3\\lib\\site-packages (from fake_useragent) (5.10.2)\n",
      "Requirement already satisfied: zipp>=3.1.0 in c:\\users\\vaishali\\anaconda3\\lib\\site-packages (from importlib-resources>=5.0->fake_useragent) (3.8.0)\n",
      "Note: you may need to restart the kernel to use updated packages.\n"
     ]
    }
   ],
   "source": [
    "pip install fake_useragent"
   ]
  },
  {
   "cell_type": "code",
   "execution_count": 4,
   "id": "b9ab0848",
   "metadata": {},
   "outputs": [],
   "source": [
    "import fake_useragent"
   ]
  },
  {
   "cell_type": "code",
   "execution_count": 8,
   "id": "7d5116e3",
   "metadata": {},
   "outputs": [
    {
     "data": {
      "text/plain": [
       "<Response [200]>"
      ]
     },
     "execution_count": 8,
     "metadata": {},
     "output_type": "execute_result"
    }
   ],
   "source": [
    "# headers = {\"User_Agent\": fake_useragent.UserAgent().random}\n",
    "headers = {\n",
    "    \"User-Agent\": \"Mozilla/5.0 (Windows NT 10.0; Win64; x64) AppleWebKit/537.3\",\n",
    "}\n",
    "url = \"https://lite.duckduckgo.com/lite/?q=my+ip\"\n",
    "response = requests.get(url, headers=headers)\n",
    "response"
   ]
  },
  {
   "cell_type": "code",
   "execution_count": null,
   "id": "2e5ac6dc",
   "metadata": {},
   "outputs": [],
   "source": []
  },
  {
   "cell_type": "code",
   "execution_count": 9,
   "id": "4f53857e",
   "metadata": {},
   "outputs": [],
   "source": [
    "import re\n",
    "from bs4 import BeautifulSoup"
   ]
  },
  {
   "cell_type": "code",
   "execution_count": 10,
   "id": "01895efe",
   "metadata": {},
   "outputs": [
    {
     "data": {
      "text/plain": [
       "'\\n      Your IP address is 131.251.253.72 in '"
      ]
     },
     "execution_count": 10,
     "metadata": {},
     "output_type": "execute_result"
    }
   ],
   "source": [
    "soup = BeautifulSoup(response.content, \"html.parser\")\n",
    "\n",
    "soup.find(text=re.compile(r\"Your IP address is\"))"
   ]
  },
  {
   "cell_type": "code",
   "execution_count": 11,
   "id": "09cb7119",
   "metadata": {},
   "outputs": [
    {
     "data": {
      "text/plain": [
       "'{\\n  \"origin\": \"131.251.253.72\"\\n}\\n'"
      ]
     },
     "execution_count": 11,
     "metadata": {},
     "output_type": "execute_result"
    }
   ],
   "source": [
    "requests.get(\"https://httpbin.org/ip\").text"
   ]
  },
  {
   "cell_type": "code",
   "execution_count": 13,
   "id": "662a2f3d",
   "metadata": {},
   "outputs": [
    {
     "name": "stdout",
     "output_type": "stream",
     "text": [
      "Collecting stem\n",
      "  Downloading stem-1.8.1.tar.gz (2.9 MB)\n",
      "     ---------------------------------------- 2.9/2.9 MB 11.4 MB/s eta 0:00:00\n",
      "  Preparing metadata (setup.py): started\n",
      "  Preparing metadata (setup.py): finished with status 'done'\n",
      "Building wheels for collected packages: stem\n",
      "  Building wheel for stem (setup.py): started\n",
      "  Building wheel for stem (setup.py): finished with status 'done'\n",
      "  Created wheel for stem: filename=stem-1.8.1-py3-none-any.whl size=436314 sha256=6d02b94b7ebd16a314dcbf4458dd7878e84b4b7c7086525e20969f1a6d1304b6\n",
      "  Stored in directory: c:\\users\\vaishali\\appdata\\local\\pip\\cache\\wheels\\a4\\5c\\2a\\48333f3c3ae32f4dccb93cfc9c16507bdcc150ac194b6f90e4\n",
      "Successfully built stem\n",
      "Installing collected packages: stem\n",
      "Successfully installed stem-1.8.1\n",
      "Note: you may need to restart the kernel to use updated packages.\n"
     ]
    }
   ],
   "source": [
    "pip install stem"
   ]
  },
  {
   "cell_type": "code",
   "execution_count": 14,
   "id": "5dfec515",
   "metadata": {},
   "outputs": [],
   "source": [
    "import stem.process\n",
    "import stem.util.term"
   ]
  },
  {
   "cell_type": "code",
   "execution_count": 15,
   "id": "29c05252",
   "metadata": {},
   "outputs": [
    {
     "ename": "OSError",
     "evalue": "'tor' isn't available on your system. Maybe it's not in your PATH?",
     "output_type": "error",
     "traceback": [
      "\u001b[1;31m---------------------------------------------------------------------------\u001b[0m",
      "\u001b[1;31mOSError\u001b[0m                                   Traceback (most recent call last)",
      "\u001b[1;32m~\\AppData\\Local\\Temp\\ipykernel_31608\\1195552466.py\u001b[0m in \u001b[0;36m<module>\u001b[1;34m\u001b[0m\n\u001b[0;32m      2\u001b[0m \u001b[1;33m\u001b[0m\u001b[0m\n\u001b[0;32m      3\u001b[0m \u001b[1;31m# See https://stem.torproject.org/tutorials/the_little_relay_that_could.html\u001b[0m\u001b[1;33m\u001b[0m\u001b[1;33m\u001b[0m\u001b[0m\n\u001b[1;32m----> 4\u001b[1;33m tor_process = stem.process.launch_tor_with_config(\n\u001b[0m\u001b[0;32m      5\u001b[0m     config = {\n\u001b[0;32m      6\u001b[0m         \u001b[1;34m\"SocksPort\"\u001b[0m\u001b[1;33m:\u001b[0m \u001b[0mTOR_SOCKS_PORT\u001b[0m\u001b[1;33m,\u001b[0m\u001b[1;33m\u001b[0m\u001b[1;33m\u001b[0m\u001b[0m\n",
      "\u001b[1;32m~\\anaconda3\\lib\\site-packages\\stem\\process.py\u001b[0m in \u001b[0;36mlaunch_tor_with_config\u001b[1;34m(config, tor_cmd, completion_percent, init_msg_handler, timeout, take_ownership, close_output)\u001b[0m\n\u001b[0;32m    294\u001b[0m       \u001b[0margs\u001b[0m \u001b[1;33m=\u001b[0m \u001b[1;33m[\u001b[0m\u001b[1;34m'__ReloadTorrcOnSIGHUP'\u001b[0m\u001b[1;33m,\u001b[0m \u001b[1;34m'0'\u001b[0m\u001b[1;33m]\u001b[0m\u001b[1;33m\u001b[0m\u001b[1;33m\u001b[0m\u001b[0m\n\u001b[0;32m    295\u001b[0m \u001b[1;33m\u001b[0m\u001b[0m\n\u001b[1;32m--> 296\u001b[1;33m       \u001b[1;32mreturn\u001b[0m \u001b[0mlaunch_tor\u001b[0m\u001b[1;33m(\u001b[0m\u001b[0mtor_cmd\u001b[0m\u001b[1;33m,\u001b[0m \u001b[0margs\u001b[0m\u001b[1;33m,\u001b[0m \u001b[0mtorrc_path\u001b[0m\u001b[1;33m,\u001b[0m \u001b[0mcompletion_percent\u001b[0m\u001b[1;33m,\u001b[0m \u001b[0minit_msg_handler\u001b[0m\u001b[1;33m,\u001b[0m \u001b[0mtimeout\u001b[0m\u001b[1;33m,\u001b[0m \u001b[0mtake_ownership\u001b[0m\u001b[1;33m)\u001b[0m\u001b[1;33m\u001b[0m\u001b[1;33m\u001b[0m\u001b[0m\n\u001b[0m\u001b[0;32m    297\u001b[0m     \u001b[1;32mfinally\u001b[0m\u001b[1;33m:\u001b[0m\u001b[1;33m\u001b[0m\u001b[1;33m\u001b[0m\u001b[0m\n\u001b[0;32m    298\u001b[0m       \u001b[1;32mtry\u001b[0m\u001b[1;33m:\u001b[0m\u001b[1;33m\u001b[0m\u001b[1;33m\u001b[0m\u001b[0m\n",
      "\u001b[1;32m~\\anaconda3\\lib\\site-packages\\stem\\process.py\u001b[0m in \u001b[0;36mlaunch_tor\u001b[1;34m(tor_cmd, args, torrc_path, completion_percent, init_msg_handler, timeout, take_ownership, close_output, stdin)\u001b[0m\n\u001b[0;32m    101\u001b[0m       \u001b[1;32mraise\u001b[0m \u001b[0mOSError\u001b[0m\u001b[1;33m(\u001b[0m\u001b[1;34m\"'%s' doesn't exist\"\u001b[0m \u001b[1;33m%\u001b[0m \u001b[0mtor_cmd\u001b[0m\u001b[1;33m)\u001b[0m\u001b[1;33m\u001b[0m\u001b[1;33m\u001b[0m\u001b[0m\n\u001b[0;32m    102\u001b[0m   \u001b[1;32melif\u001b[0m \u001b[1;32mnot\u001b[0m \u001b[0mstem\u001b[0m\u001b[1;33m.\u001b[0m\u001b[0mutil\u001b[0m\u001b[1;33m.\u001b[0m\u001b[0msystem\u001b[0m\u001b[1;33m.\u001b[0m\u001b[0mis_available\u001b[0m\u001b[1;33m(\u001b[0m\u001b[0mtor_cmd\u001b[0m\u001b[1;33m)\u001b[0m\u001b[1;33m:\u001b[0m\u001b[1;33m\u001b[0m\u001b[1;33m\u001b[0m\u001b[0m\n\u001b[1;32m--> 103\u001b[1;33m     \u001b[1;32mraise\u001b[0m \u001b[0mOSError\u001b[0m\u001b[1;33m(\u001b[0m\u001b[1;34m\"'%s' isn't available on your system. Maybe it's not in your PATH?\"\u001b[0m \u001b[1;33m%\u001b[0m \u001b[0mtor_cmd\u001b[0m\u001b[1;33m)\u001b[0m\u001b[1;33m\u001b[0m\u001b[1;33m\u001b[0m\u001b[0m\n\u001b[0m\u001b[0;32m    104\u001b[0m \u001b[1;33m\u001b[0m\u001b[0m\n\u001b[0;32m    105\u001b[0m   \u001b[1;31m# double check that we have a torrc to work with\u001b[0m\u001b[1;33m\u001b[0m\u001b[1;33m\u001b[0m\u001b[0m\n",
      "\u001b[1;31mOSError\u001b[0m: 'tor' isn't available on your system. Maybe it's not in your PATH?"
     ]
    }
   ],
   "source": [
    "TOR_SOCKS_PORT = \"9050\"\n",
    "\n",
    "# See https://stem.torproject.org/tutorials/the_little_relay_that_could.html\n",
    "tor_process = stem.process.launch_tor_with_config(\n",
    "    config = {\n",
    "        \"SocksPort\": TOR_SOCKS_PORT,\n",
    "    },\n",
    ")\n",
    "tor_process"
   ]
  },
  {
   "cell_type": "code",
   "execution_count": 19,
   "id": "ac3dedb5",
   "metadata": {},
   "outputs": [
    {
     "name": "stdout",
     "output_type": "stream",
     "text": [
      "Collecting piexif\n",
      "  Downloading piexif-1.1.3-py2.py3-none-any.whl (20 kB)\n",
      "Installing collected packages: piexif\n",
      "Successfully installed piexif-1.1.3\n",
      "Note: you may need to restart the kernel to use updated packages.\n"
     ]
    }
   ],
   "source": [
    "pip install piexif"
   ]
  },
  {
   "cell_type": "code",
   "execution_count": 20,
   "id": "9a4c4eff",
   "metadata": {},
   "outputs": [],
   "source": [
    "import piexif"
   ]
  },
  {
   "cell_type": "code",
   "execution_count": 22,
   "id": "ca2f72ba",
   "metadata": {},
   "outputs": [
    {
     "ename": "KeyError",
     "evalue": "'GPSLatitudeRef'",
     "output_type": "error",
     "traceback": [
      "\u001b[1;31m---------------------------------------------------------------------------\u001b[0m",
      "\u001b[1;31mKeyError\u001b[0m                                  Traceback (most recent call last)",
      "\u001b[1;32m~\\AppData\\Local\\Temp\\ipykernel_31608\\3011751056.py\u001b[0m in \u001b[0;36m<module>\u001b[1;34m\u001b[0m\n\u001b[0;32m     20\u001b[0m     \u001b[1;32mreturn\u001b[0m \u001b[1;33m{\u001b[0m\u001b[1;34mb\"N\"\u001b[0m\u001b[1;33m:\u001b[0m \u001b[1;36m1\u001b[0m\u001b[1;33m,\u001b[0m \u001b[1;34mb\"S\"\u001b[0m\u001b[1;33m:\u001b[0m \u001b[1;33m-\u001b[0m\u001b[1;36m1\u001b[0m\u001b[1;33m,\u001b[0m \u001b[1;34mb\"W\"\u001b[0m\u001b[1;33m:\u001b[0m \u001b[1;33m-\u001b[0m\u001b[1;36m1\u001b[0m\u001b[1;33m,\u001b[0m \u001b[1;34mb\"E\"\u001b[0m\u001b[1;33m:\u001b[0m \u001b[1;36m1\u001b[0m\u001b[1;33m}\u001b[0m\u001b[1;33m[\u001b[0m\u001b[0mexif_gps_ref\u001b[0m\u001b[1;33m]\u001b[0m\u001b[1;33m\u001b[0m\u001b[1;33m\u001b[0m\u001b[0m\n\u001b[0;32m     21\u001b[0m \u001b[1;33m\u001b[0m\u001b[0m\n\u001b[1;32m---> 22\u001b[1;33m \u001b[0mlat\u001b[0m \u001b[1;33m=\u001b[0m \u001b[0mgps_exif_to_sign\u001b[0m\u001b[1;33m(\u001b[0m\u001b[0mgps_tags\u001b[0m\u001b[1;33m[\u001b[0m\u001b[1;34m\"GPSLatitudeRef\"\u001b[0m\u001b[1;33m]\u001b[0m\u001b[1;33m)\u001b[0m \u001b[1;33m*\u001b[0m\u001b[0;31m \u001b[0m\u001b[0;31m\\\u001b[0m\u001b[1;33m\u001b[0m\u001b[1;33m\u001b[0m\u001b[0m\n\u001b[0m\u001b[0;32m     23\u001b[0m     \u001b[0mgps_exif_to_decimal\u001b[0m\u001b[1;33m(\u001b[0m\u001b[0mgps_tags\u001b[0m\u001b[1;33m[\u001b[0m\u001b[1;34m\"GPSLatitude\"\u001b[0m\u001b[1;33m]\u001b[0m\u001b[1;33m)\u001b[0m\u001b[1;33m\u001b[0m\u001b[1;33m\u001b[0m\u001b[0m\n\u001b[0;32m     24\u001b[0m \u001b[0mlon\u001b[0m \u001b[1;33m=\u001b[0m \u001b[0mgps_exif_to_sign\u001b[0m\u001b[1;33m(\u001b[0m\u001b[0mgps_tags\u001b[0m\u001b[1;33m[\u001b[0m\u001b[1;34m\"GPSLongitudeRef\"\u001b[0m\u001b[1;33m]\u001b[0m\u001b[1;33m)\u001b[0m \u001b[1;33m*\u001b[0m\u001b[0;31m \u001b[0m\u001b[0;31m\\\u001b[0m\u001b[1;33m\u001b[0m\u001b[1;33m\u001b[0m\u001b[0m\n",
      "\u001b[1;31mKeyError\u001b[0m: 'GPSLatitudeRef'"
     ]
    }
   ],
   "source": [
    "exif_dict = piexif.load(\"./ozymandias.jpg\")\n",
    "\n",
    "gps_tags = dict()\n",
    "for tag in exif_dict[\"GPS\"]:\n",
    "    gps_tags[piexif.TAGS[\"GPS\"][tag][\"name\"]] = exif_dict[\"GPS\"][tag]\n",
    "\n",
    "def gps_exif_to_decimal(exif_gps):\n",
    "    \"Get the decimal representation of the given Exif GPS tuple.\"\n",
    "    degrees, minutes, seconds = exif_gps\n",
    "    degrees_numerator, degrees_denominator = degrees\n",
    "    minutes_numerator, minutes_denominator = minutes\n",
    "    seconds_numerator, seconds_denominator = seconds\n",
    "    degrees = degrees_numerator / degrees_denominator\n",
    "    minutes = minutes_numerator / minutes_denominator\n",
    "    seconds = seconds_numerator / seconds_denominator\n",
    "    return degrees + minutes / 60 + seconds / 3600\n",
    "\n",
    "def gps_exif_to_sign(exif_gps_ref):\n",
    "    \"Convert the given GPS Ref (i.e. N, S, W, E) to a sign.\"\n",
    "    return {b\"N\": 1, b\"S\": -1, b\"W\": -1, b\"E\": 1}[exif_gps_ref]\n",
    "\n",
    "lat = gps_exif_to_sign(gps_tags[\"GPSLatitudeRef\"]) * \\\n",
    "    gps_exif_to_decimal(gps_tags[\"GPSLatitude\"])\n",
    "lon = gps_exif_to_sign(gps_tags[\"GPSLongitudeRef\"]) * \\\n",
    "    gps_exif_to_decimal(gps_tags[\"GPSLongitude\"])\n",
    "\n",
    "f\"https://www.google.com/maps/place/{lat},{lon}\""
   ]
  },
  {
   "cell_type": "code",
   "execution_count": null,
   "id": "d45ca778",
   "metadata": {},
   "outputs": [],
   "source": []
  }
 ],
 "metadata": {
  "kernelspec": {
   "display_name": "Python 3 (ipykernel)",
   "language": "python",
   "name": "python3"
  },
  "language_info": {
   "codemirror_mode": {
    "name": "ipython",
    "version": 3
   },
   "file_extension": ".py",
   "mimetype": "text/x-python",
   "name": "python",
   "nbconvert_exporter": "python",
   "pygments_lexer": "ipython3",
   "version": "3.9.13"
  }
 },
 "nbformat": 4,
 "nbformat_minor": 5
}
