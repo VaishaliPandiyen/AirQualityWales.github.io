{
 "cells": [
  {
   "cell_type": "code",
   "execution_count": 1,
   "id": "50728094",
   "metadata": {},
   "outputs": [],
   "source": [
    "import requests\n",
    "from bs4 import BeautifulSoup as bs\n",
    "\n",
    "import pandas as pd"
   ]
  },
  {
   "cell_type": "markdown",
   "id": "6f317c5c",
   "metadata": {},
   "source": [
    "### Add headers (ethical obligation)"
   ]
  },
  {
   "cell_type": "code",
   "execution_count": 3,
   "id": "3fbb2bb0",
   "metadata": {},
   "outputs": [
    {
     "data": {
      "text/plain": [
       "{'User-Agent': 'Mozilla/5.0 (Windows NT 10.0; Win64; x64; rv:109.0) Gecko/20100101 Firefox/112.0; VaishaliPandiyen PandiyenV@cardiff.ac.uk scraping for uni coursework'}"
      ]
     },
     "execution_count": 3,
     "metadata": {},
     "output_type": "execute_result"
    }
   ],
   "source": [
    "myUa = \"Mozilla/5.0 (Windows NT 10.0; Win64; x64; rv:109.0) Gecko/20100101 Firefox/112.0\"\n",
    "myInf = \"VaishaliPandiyen PandiyenV@cardiff.ac.uk scraping for uni coursework\"\n",
    "myHeaders = {\"User-Agent\": f'{myUa}; {myInf}'}\n",
    "myHeaders"
   ]
  },
  {
   "cell_type": "markdown",
   "id": "957698ea",
   "metadata": {},
   "source": [
    "### Run this to update:"
   ]
  },
  {
   "cell_type": "code",
   "execution_count": 6,
   "id": "95bb1af0",
   "metadata": {},
   "outputs": [],
   "source": [
    "aqw_sites = \"https://airquality.gov.wales/air-pollution/monitoring-site-summary\"\n",
    "aqw_req_1 = requests.get(aqw_sites, myHeaders)\n",
    "\n",
    "if aqw_req_1.status_code == 200:\n",
    "    aqw_soup_1 = bs(aqw_req_1.content)"
   ]
  },
  {
   "cell_type": "code",
   "execution_count": 10,
   "id": "c51ee07f",
   "metadata": {},
   "outputs": [
    {
     "name": "stdout",
     "output_type": "stream",
     "text": [
      "Now scraping: Monitoring site summary\n",
      " from https://airquality.gov.wales/air-pollution/monitoring-site-summary\n"
     ]
    }
   ],
   "source": [
    "print(\"Now scraping:\", aqw_soup_1.find('h1', class_ ='page-header')\n",
    "      .text, \"from\", aqw_sites)\n"
   ]
  },
  {
   "cell_type": "code",
   "execution_count": 14,
   "id": "96b1cb0f",
   "metadata": {},
   "outputs": [
    {
     "ename": "IndentationError",
     "evalue": "unexpected indent (2693879510.py, line 3)",
     "output_type": "error",
     "traceback": [
      "\u001b[1;36m  File \u001b[1;32m\"C:\\Users\\Vaishali\\AppData\\Local\\Temp\\ipykernel_34196\\2693879510.py\"\u001b[1;36m, line \u001b[1;32m3\u001b[0m\n\u001b[1;33m    .find('tbody')\u001b[0m\n\u001b[1;37m    ^\u001b[0m\n\u001b[1;31mIndentationError\u001b[0m\u001b[1;31m:\u001b[0m unexpected indent\n"
     ]
    }
   ],
   "source": [
    "aqw_soup_1.find('table', \n",
    "                class_='responsive-enabled table table-hover table-striped').find('tbody')"
   ]
  },
  {
   "cell_type": "code",
   "execution_count": null,
   "id": "644e74d8",
   "metadata": {},
   "outputs": [],
   "source": []
  }
 ],
 "metadata": {
  "kernelspec": {
   "display_name": "Python 3 (ipykernel)",
   "language": "python",
   "name": "python3"
  },
  "language_info": {
   "codemirror_mode": {
    "name": "ipython",
    "version": 3
   },
   "file_extension": ".py",
   "mimetype": "text/x-python",
   "name": "python",
   "nbconvert_exporter": "python",
   "pygments_lexer": "ipython3",
   "version": "3.9.13"
  }
 },
 "nbformat": 4,
 "nbformat_minor": 5
}
